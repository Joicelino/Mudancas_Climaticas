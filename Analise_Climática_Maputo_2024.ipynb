{
 "cells": [
  {
   "cell_type": "code",
   "execution_count": null,
   "id": "e63667e6-393e-4185-a940-40af2860bbe8",
   "metadata": {},
   "outputs": [],
   "source": [
    "import pandas as pd\n",
    "import matplotlib.pyplot as plt\n",
    "\n",
    "# Visualizações mais bonitas (opcional)\n",
    "plt.style.use('seaborn-v0_8')\n",
    "%matplotlib inline\n"
   ]
  },
  {
   "cell_type": "code",
   "execution_count": null,
   "id": "ece05828-a403-4901-8327-f2e3f861190a",
   "metadata": {},
   "outputs": [],
   "source": [
    "# Carregar os dados\n",
    "df = pd.read_csv(\"dados_climaticos_maputo_2024.csv\")\n",
    "\n",
    "# Mostrar as primeiras linhas\n",
    "df.head()\n"
   ]
  },
  {
   "cell_type": "code",
   "execution_count": null,
   "id": "03131a76-3128-4a24-9fab-dc7565ce6545",
   "metadata": {},
   "outputs": [],
   "source": [
    "# Verificar informações gerais\n",
    "df.info()\n",
    "\n",
    "# Estatísticas básicas\n",
    "df.describe()\n"
   ]
  },
  {
   "cell_type": "code",
   "execution_count": null,
   "id": "b05cfbc1-896e-481b-81ed-4468835ef9ec",
   "metadata": {},
   "outputs": [],
   "source": [
    "# Verificar informações gerais\n",
    "df.info()\n",
    "\n",
    "# Estatísticas básicas\n",
    "df.describe()\n"
   ]
  },
  {
   "cell_type": "code",
   "execution_count": null,
   "id": "93454c70-8cc5-4afa-aade-9e2bb6ee91b5",
   "metadata": {},
   "outputs": [],
   "source": [
    "# Converter para datetime\n",
    "df[\"Data\"] = pd.to_datetime(df[\"Data\"])\n"
   ]
  },
  {
   "cell_type": "code",
   "execution_count": null,
   "id": "b47c8e19-9a15-4831-9837-c52d782be40a",
   "metadata": {},
   "outputs": [],
   "source": [
    "# Temperatura média do ano\n",
    "media_temp = df[\"Temperatura (°C)\"].mean()\n",
    "print(f\"Temperatura média em 2024: {media_temp:.1f} °C\")\n",
    "\n",
    "# Temperatura máxima e mínima\n",
    "print(\"Temperatura máxima:\", df[\"Temperatura (°C)\"].max())\n",
    "print(\"Temperatura mínima:\", df[\"Temperatura (°C)\"].min())\n"
   ]
  },
  {
   "cell_type": "code",
   "execution_count": null,
   "id": "dad60fbb-4bba-47a8-a2ae-a83970c63624",
   "metadata": {},
   "outputs": [],
   "source": [
    "plt.figure(figsize=(15,5))\n",
    "plt.plot(df[\"Data\"], df[\"Temperatura (°C)\"], color='orange')\n",
    "plt.title(\"Temperatura Diária em Maputo (2024)\")\n",
    "plt.xlabel(\"Data\")\n",
    "plt.ylabel(\"Temperatura (°C)\")\n",
    "plt.grid(True)\n",
    "plt.show()"
   ]
  },
  {
   "cell_type": "code",
   "execution_count": null,
   "id": "050a6b2c-ba29-417b-a500-4062fd4d9f18",
   "metadata": {},
   "outputs": [],
   "source": [
    "# Criar coluna com mês\n",
    "df[\"Mês\"] = df[\"Data\"].dt.strftime('%B')\n",
    "\n",
    "# Agrupar por mês (ordem correta)\n",
    "meses = [\"Janeiro\", \"Fevereiro\", \"Março\", \"Abril\", \"Maio\", \"Junho\",\n",
    "         \"Julho\", \"Agosto\", \"Setembro\", \"Outubro\", \"Novembro\", \"Dezembro\"]\n",
    "\n",
    "chuva_mensal = df.groupby(\"Mês\")[\"Precipitação (mm)\"].sum().reindex(meses)\n",
    "\n",
    "# Gráfico de barras\n",
    "chuva_mensal.plot(kind='bar', figsize=(10,5), color='blue')\n",
    "plt.title(\"Precipitação Total por Mês em Maputo (2024)\")\n",
    "plt.ylabel(\"Milímetros (mm)\")\n",
    "plt.xticks(rotation=45)\n",
    "plt.grid(axis='y')\n",
    "plt.tight_layout()\n",
    "plt.show()"
   ]
  },
  {
   "cell_type": "code",
   "execution_count": null,
   "id": "b91f7c78-51d1-45ff-b5df-fca50a04cce2",
   "metadata": {},
   "outputs": [],
   "source": []
  }
 ],
 "metadata": {
  "kernelspec": {
   "display_name": "Python 3 (ipykernel)",
   "language": "python",
   "name": "python3"
  },
  "language_info": {
   "codemirror_mode": {
    "name": "ipython",
    "version": 3
   },
   "file_extension": ".py",
   "mimetype": "text/x-python",
   "name": "python",
   "nbconvert_exporter": "python",
   "pygments_lexer": "ipython3",
   "version": "3.12.7"
  }
 },
 "nbformat": 4,
 "nbformat_minor": 5
}
